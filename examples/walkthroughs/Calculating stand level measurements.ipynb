{
 "cells": [
  {
   "cell_type": "markdown",
   "metadata": {},
   "source": [
    "# Calculating stand level measurements from tree data\n",
    "\n",
    "For this example, we'll start with loading some tree data and then calculate stand trees per acre, basal area. "
   ]
  },
  {
   "cell_type": "code",
   "execution_count": null,
   "metadata": {
    "collapsed": true
   },
   "outputs": [],
   "source": [
    "# Load packages\n",
    "# Pkg.add(\"ForestBiometrics) # if install needed\n",
    "using ForestBiometrics, CSV, DataFrames\n",
    "\n",
    "#Load data\n",
    "datapath = Pkg.dir(\"ForestBiometrics\", \"test\", \"data\")\n",
    "df=CSV.read(joinpath(datapath, \"StandExam_data.csv\"),nullable=false)"
   ]
  },
  {
   "cell_type": "markdown",
   "metadata": {},
   "source": [
    "This is the tree data for a single stand with 17 plots taken. To simplify, a bit we'll just explain the specs here and not have to worry about a second table with cruise spec info.\n",
    "\n",
    "The plots were variable radius, measured with a BAF 10 prism.\n",
    "\n",
    "ForestBiometrics exports a CONST ```K``` for the conversion factor between diameter in inches and area of a circle, as well as the metric version ```KMETRIC``` for diameter in centimeters.\n"
   ]
  },
  {
   "cell_type": "code",
   "execution_count": null,
   "metadata": {
    "collapsed": true
   },
   "outputs": [],
   "source": [
    "K\n",
    "\n",
    "KMETRIC"
   ]
  },
  {
   "cell_type": "markdown",
   "metadata": {},
   "source": [
    "# Basal Area\n",
    "\n",
    "First let's start with calculating the basal area in ft^2 for each plot, so we need to get numbers of records/plot * 10 to get BA represented by that plot. Then we can generate our stand estimate for basal area/acre by taking the average of all plots in the stand."
   ]
  },
  {
   "cell_type": "code",
   "execution_count": null,
   "metadata": {
    "collapsed": true
   },
   "outputs": [],
   "source": [
    "#make some variables, so we can reference it for simplicity\n",
    "BAF = 10\n",
    "n_plots=17\n",
    "\n",
    "plot_ba=by(df,:Plot_ID,df -> DataFrame(BA = size(df, 1)*BAF))\n",
    "\n",
    "stand_ba=mean(plot_ba[:BA])"
   ]
  },
  {
   "cell_type": "markdown",
   "metadata": {},
   "source": [
    "# Trees per acre\n",
    "\n",
    "TPA for variable radius plots is a little more involved, but nothing we can't handle. \n",
    "First, we'll calculate the appropriate expansion factor for each tree record and them combine them to get our estimate for the stand."
   ]
  },
  {
   "cell_type": "code",
   "execution_count": null,
   "metadata": {
    "collapsed": true
   },
   "outputs": [],
   "source": [
    "#calculate basal area of each tree record\n",
    "df[:TreeBA]=(df[:DBH].^2)*K\n",
    "\n",
    "#calculating expansion factor for each tree record\n",
    "df[:TreeEXP]=BAF./df[:TreeBA]./n_plots\n",
    "\n",
    "# sum together to get stand estimate \n",
    "stand_tpa=sum(df[:TreeEXP])"
   ]
  },
  {
   "cell_type": "code",
   "execution_count": null,
   "metadata": {
    "collapsed": true
   },
   "outputs": [],
   "source": []
  }
 ],
 "metadata": {
  "kernelspec": {
   "display_name": "Julia 0.6.2",
   "language": "julia",
   "name": "julia-0.6"
  },
  "language_info": {
   "file_extension": ".jl",
   "mimetype": "application/julia",
   "name": "julia",
   "version": "0.6.2"
  }
 },
 "nbformat": 4,
 "nbformat_minor": 2
}
